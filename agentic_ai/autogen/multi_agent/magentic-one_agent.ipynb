{
 "cells": [
  {
   "cell_type": "markdown",
   "id": "f35ce292",
   "metadata": {},
   "source": [
    "# Magentic-One\n",
    "\n",
    "Magentic-One は Microsoft Research が開発した汎用マルチエージェントシステムです。\n",
    "Magentic-One の `Orchestrator` エージェントは、計画を作成し、他のエージェントにタスクを委任し、目標に向けた進捗状況を追跡して、必要に応じて計画を動的に修正します。`Orchestrator` は、ファイルの読み取りと処理を行う `FileSurfer` エージェント、Web ブラウザーを操作する WebSurfer エージェント、またはコードの記述や実行を行う `Coder` エージェントまたは `Computer Terminal` エージェントにタスクを委任できます。\n",
    "\n",
    "https://microsoft.github.io/autogen/stable/user-guide/agentchat-user-guide/magentic-one.html\n",
    "\n",
    "<img src=\"https://microsoft.github.io/autogen/stable/_images/autogen-magentic-one-example.png\" width=\"800\"/>"
   ]
  },
  {
   "cell_type": "markdown",
   "id": "8b9e0ee1",
   "metadata": {},
   "source": [
    "## 内部処理解説\n",
    "![](./img/004.png)\n",
    "\n",
    "https://www.youtube.com/watch?feature=shared&t=5408&v=jHW6zcIzm7g\n",
    "\n",
    "### 1. Outer Loop（外側のループ）:\n",
    "タスクの初期計画を作成し、進行状況を管理する役割を持ちます。タスク台帳 (Task Ledger) を維持し、与えられた情報、検証済みの事実、未調査の事実、推測情報を格納します。\n",
    "\n",
    "さらに各エージェントの役割を考慮しながら、タスクを分解し、作業計画を立案します。計画が更新されるたびに、すべてのエージェントの状態をリセットします。\n",
    "\n",
    "### 2. Inner Loop（内側のループ）\n",
    "タスク進行中に、エージェントの動作を調整し、失敗時の対応を決定します。進捗台帳 (Progress Ledger) を維持し、作業の進行状況、繰り返し発生している問題、どのエージェントが次に動作するかを記録します。"
   ]
  },
  {
   "cell_type": "markdown",
   "id": "b8a607fe",
   "metadata": {},
   "source": [
    "## Installing Playwright\n",
    "事前に Node.js のインストールが必要です。\n",
    "\n",
    "https://playwright.dev/docs/intro"
   ]
  },
  {
   "cell_type": "code",
   "execution_count": null,
   "id": "d54ec14e",
   "metadata": {},
   "outputs": [],
   "source": [
    "#!npm init playwright@latest\n",
    "\n",
    "#!pip install \"autogen-ext[magentic-one]\"\n",
    "#!playwright install --with-deps chromium"
   ]
  },
  {
   "cell_type": "code",
   "execution_count": null,
   "id": "49c61a22",
   "metadata": {},
   "outputs": [],
   "source": [
    "import logging  \n",
    "from typing import Any, List\n",
    "import os\n",
    "from dotenv import load_dotenv  \n",
    "\n",
    "from autogen_agentchat.agents import AssistantAgent  \n",
    "from autogen_ext.agents.web_surfer import MultimodalWebSurfer\n",
    "from autogen_ext.agents.magentic_one import MagenticOneCoderAgent\n",
    "from autogen_agentchat.base import TaskResult\n",
    "from autogen_agentchat.teams import MagenticOneGroupChat  # keeps implementation simple & familiar  \n",
    "from autogen_agentchat.conditions import TextMessageTermination, MaxMessageTermination, TextMentionTermination, TimeoutTermination\n",
    "\n",
    "from autogen_agentchat.agents import CodeExecutorAgent\n",
    "from autogen_ext.code_executors.local import LocalCommandLineCodeExecutor\n",
    "\n",
    "from autogen_core import CancellationToken  \n",
    "from autogen_agentchat.ui import Console\n",
    "from autogen_ext.models.openai import AzureOpenAIChatCompletionClient  \n",
    "from autogen_ext.tools.mcp import SseServerParams, mcp_server_tools  \n",
    "import warnings\n",
    "warnings.simplefilter('ignore')\n",
    "\n",
    "load_dotenv()"
   ]
  },
  {
   "cell_type": "markdown",
   "id": "b27a5965",
   "metadata": {},
   "source": [
    "## OpenTelemetry によるトレーサーのセット\n",
    "マルチエージェントのデバッグには OpenTelemetry によるトレーサーを利用すると便利。`OpenAIInstrumentor` を使用して OpenAI コールをキャプチャできます。ここではトレース UI として [Jaeger](https://www.jaegertracing.io/download/) を使用しています。"
   ]
  },
  {
   "cell_type": "code",
   "execution_count": null,
   "id": "7d823abc",
   "metadata": {},
   "outputs": [],
   "source": [
    "#!pip install opentelemetry-api opentelemetry-sdk opentelemetry-exporter-otlp opentelemetry-instrumentation-openai"
   ]
  },
  {
   "cell_type": "code",
   "execution_count": null,
   "id": "2087c39a",
   "metadata": {},
   "outputs": [],
   "source": [
    "from opentelemetry import trace\n",
    "from opentelemetry.sdk.resources import Resource\n",
    "from opentelemetry.sdk.trace import TracerProvider\n",
    "from opentelemetry.sdk.trace.export import BatchSpanProcessor\n",
    "from opentelemetry.exporter.otlp.proto.grpc.trace_exporter import OTLPSpanExporter\n",
    "from opentelemetry.instrumentation.openai import OpenAIInstrumentor\n",
    "\n",
    "service_name = \"autogen\"\n",
    "\n",
    "# OTLPエクスポーターの設定 (gRPC経由で送信)\n",
    "otlp_exporter = OTLPSpanExporter(\n",
    "    endpoint=\"http://localhost:4317\",  # JaegerのgRPCエンドポイント\n",
    ")\n",
    "tracer_provider = TracerProvider(resource=Resource({\"service.name\": service_name}))\n",
    "    \n",
    "# トレーサープロバイダーの設定\n",
    "trace.set_tracer_provider(tracer_provider)\n",
    "\n",
    "# バッチスパンプロセッサーを設定\n",
    "span_processor = BatchSpanProcessor(otlp_exporter)\n",
    "tracer_provider.add_span_processor(span_processor)\n",
    "\n",
    "# トレーサーを取得\n",
    "tracer = tracer_provider.get_tracer(service_name)\n",
    "\n",
    "OpenAIInstrumentor().instrument()"
   ]
  },
  {
   "cell_type": "code",
   "execution_count": null,
   "id": "58ad0654",
   "metadata": {},
   "outputs": [],
   "source": [
    "mcp_server_uri = os.getenv(\"MCP_SERVER_URI\")\n",
    "azure_openai_key = os.getenv(\"AZURE_OPENAI_API_KEY\")\n",
    "azure_openai_endpoint = os.getenv(\"AZURE_OPENAI_ENDPOINT\")\n",
    "azure_deployment = os.getenv(\"AZURE_OPENAI_CHAT_DEPLOYMENT\")\n",
    "api_version = os.getenv(\"AZURE_OPENAI_API_VERSION\")\n",
    "openai_model_name = os.getenv(\"OPENAI_MODEL_NAME\")"
   ]
  },
  {
   "cell_type": "markdown",
   "id": "391c69f1",
   "metadata": {},
   "source": [
    "## ツール定義(MCP via SSE)"
   ]
  },
  {
   "cell_type": "code",
   "execution_count": null,
   "id": "cf8de4fd",
   "metadata": {},
   "outputs": [],
   "source": [
    "\n",
    "server_params = SseServerParams(  \n",
    "    url=mcp_server_uri,  \n",
    "    headers={\"Content-Type\": \"application/json\"},  \n",
    "    timeout=30  \n",
    ")  \n",
    "\n",
    "# Fetch tools (async)  \n",
    "tools = await mcp_server_tools(server_params)  \n",
    "print(f\"Number of Tools: {len(tools)}\")\n",
    "# Set up the OpenAI/Azure model client  \n",
    "model_client = AzureOpenAIChatCompletionClient(  \n",
    "    api_key=azure_openai_key,  \n",
    "    azure_endpoint=azure_openai_endpoint,  \n",
    "    api_version=api_version,  \n",
    "    azure_deployment=azure_deployment,  \n",
    "    model=openai_model_name,  \n",
    ")  "
   ]
  },
  {
   "cell_type": "markdown",
   "id": "ecbc7768",
   "metadata": {},
   "source": [
    "## エージェント定義"
   ]
  },
  {
   "cell_type": "code",
   "execution_count": null,
   "id": "9b15d14e",
   "metadata": {},
   "outputs": [],
   "source": [
    "\n",
    "# 3. -----------------  Agent Definitions -----------------  \n",
    "analysis_planning_agent = AssistantAgent(  \n",
    "    name=\"AnalysisPlanningAgent\",  \n",
    "    model_client=model_client,  \n",
    "    description=\"タスクを計画するエージェント。新しいタスクが与えられたときに最初に起動するエージェントであるべきである。\",\n",
    "    system_message=(  \n",
    "\"\"\"\n",
    "あなたは「分析 & 計画エージェント（Analysis & Planning Agent）」です – 全体のオーケストレーターとして機能します。\n",
    "\n",
    "あなたの役割:\n",
    "1) 顧客からの抽象的なリクエストを解析すること。\n",
    "2) リクエストを明確なサブタスクに分解し、それぞれを専門エージェント\n",
    "   （crm_billing、product_promotions）に割り当てること。\n",
    "3) 各専門エージェントからの出力を統合し、1つの包括的で一貫性のある\n",
    "   顧客向けの回答としてまとめること。\n",
    "4) 満足のいく結果が得られたら、以下のプレフィックスを付けて顧客に最終回答すること\n",
    "   TERMINATE\n",
    "\n",
    "調査すべき内容をすべて調査し終わったら調査結果を要約し、文の最後に TERMINATE を含めること!\n",
    "プランだけ立てて TERMINATE するのは禁止です。\n",
    "\n",
    "\"\"\"\n",
    ")\n",
    ")  \n",
    "\n",
    "crm_billing_agent = AssistantAgent(  \n",
    "    name=\"CRMBillingAgent\",  \n",
    "    model_client=model_client,  \n",
    "    description=\"CRM & 請求エージェントのエージェント。CRM／請求システム、SNS(Tweet) データベースを照会する\",\n",
    "    tools=tools,  \n",
    "    system_message=(\n",
    "\"\"\"\n",
    "あなたは「CRM & 請求エージェント（CRM & Billing Agent）」です。\n",
    "\n",
    "- アカウント、サブスクリプション、請求書、支払い情報などを取得するために、\n",
    "  構造化されたCRM／請求システムを照会します。\n",
    "- SNS(ツイート) データは登録してある Tools を使用して取得できます。\n",
    "- 請求ポリシー、支払い処理、返金ルールなどに関する *ナレッジベース* 記事を確認し、\n",
    "  回答が正確かつポリシーに準拠していることを保証します。\n",
    "- 簡潔で構造化された情報を返答し、検出されたポリシー上の懸念事項があれば\n",
    "  フラグを立てます。\n",
    "\"\"\"\n",
    "    ),  \n",
    ")  \n",
    "\n",
    "product_promotions_agent = AssistantAgent(  \n",
    "    name=\"ProductPromotionsAgent\",  \n",
    "    model_client=model_client,  \n",
    "    description=\"製品 & プロモーションエージェント。プロモーションのオファー、製品の在庫状況、適格条件、割引情報などを照会\",\n",
    "    tools=tools,  \n",
    "    system_message=(  \n",
    "\"\"\"\n",
    "あなたは「製品 & プロモーションエージェント（Product & Promotions Agent）」です。\n",
    "\n",
    "- 構造化された情報源から、プロモーションのオファー、製品の在庫状況、\n",
    "  適格条件、割引情報などを取得します。\n",
    "- *ナレッジベース* のFAQ、利用規約、ベストプラクティスを活用して、\n",
    "  回答を補足します。\n",
    "- 事実に基づいた、最新の製品／プロモーション情報を提供します。\n",
    "\"\"\"\n",
    "    ),  \n",
    ")  \n",
    "\n",
    "surfer_agent = MultimodalWebSurfer(\n",
    "    \"WebSurfer\",\n",
    "    model_client=model_client,\n",
    "    description=\"Webサーフィンを行うエージェント。Webページを検索し、情報を取得することができます。\",\n",
    "    to_save_screenshots=True,\n",
    "    browser_data_dir=\"./browser_data\",\n",
    "    debug_dir=\"./debug\",\n",
    "    downloads_folder=\"./downloads\",\n",
    ")\n",
    "\n",
    "corder_agent = MagenticOneCoderAgent(\n",
    "    \"Corder\",\n",
    "    description=\"コードを生成するエージェント。与えられたプロンプトに基づいてコードを生成します。\",\n",
    "    model_client=model_client\n",
    "    )\n",
    "\n",
    "executor_agent = CodeExecutorAgent(\"ComputerTerminal\", code_executor=LocalCommandLineCodeExecutor())"
   ]
  },
  {
   "cell_type": "code",
   "execution_count": null,
   "id": "1b6327dd",
   "metadata": {},
   "outputs": [],
   "source": [
    "# 4. -----------------  Assemble Team -----------------  \n",
    "participants: List[AssistantAgent] = [  \n",
    "    analysis_planning_agent,  \n",
    "    crm_billing_agent,\n",
    "    product_promotions_agent,\n",
    "    surfer_agent,\n",
    "    corder_agent,\n",
    "    executor_agent\n",
    "]  "
   ]
  },
  {
   "cell_type": "markdown",
   "id": "2c7bd87b",
   "metadata": {},
   "source": [
    "## 停止条件\n",
    "AutoGen には 無限ループを防止するため 8 つの組み込みの終了条件が定義されています。終了条件は以下のように OR 条件で指定できるのが便利です。\n",
    "\n"
   ]
  },
  {
   "cell_type": "code",
   "execution_count": null,
   "id": "aed51905",
   "metadata": {},
   "outputs": [],
   "source": [
    "# Define termination condition\n",
    "max_msg_termination = MaxMessageTermination(max_messages=25)\n",
    "text_termination = TextMentionTermination(\"TERMINATE\")\n",
    "time_terminarion = TimeoutTermination(240)\n",
    "combined_termination = max_msg_termination | text_termination | time_terminarion"
   ]
  },
  {
   "cell_type": "markdown",
   "id": "b0b9c181",
   "metadata": {},
   "source": [
    "## Magentic-One の実行"
   ]
  },
  {
   "cell_type": "code",
   "execution_count": null,
   "id": "f60159a8",
   "metadata": {},
   "outputs": [],
   "source": [
    "with tracer.start_as_current_span(\"Magentic-One\") as rollspan:\n",
    "\n",
    "    team = MagenticOneGroupChat(participants=participants, model_client=model_client, termination_condition=combined_termination, max_turns=10)\n",
    "    task = \"Hanagasaki の文字列をMD5 でハッシュ化してください。\"\n",
    "    await Console(team.run_stream(task=task))"
   ]
  },
  {
   "cell_type": "markdown",
   "id": "aeace4c7",
   "metadata": {},
   "source": [
    "`Coder` および `ComputerTerminal` が実行されたことを確認してください。"
   ]
  },
  {
   "cell_type": "code",
   "execution_count": null,
   "id": "561eb03f",
   "metadata": {},
   "outputs": [],
   "source": [
    "with tracer.start_as_current_span(\"Magentic-One\") as rollspan:\n",
    "\n",
    "    team = MagenticOneGroupChat(participants=participants, model_client=model_client, termination_condition=combined_termination, max_turns=20)\n",
    "    task = \"草津温泉でいくべき観光スポットと最新のイベント情報を教えてください。\"\n",
    "    await Console(team.run_stream(task=task))"
   ]
  },
  {
   "cell_type": "code",
   "execution_count": null,
   "id": "d933b648",
   "metadata": {},
   "outputs": [],
   "source": [
    "with tracer.start_as_current_span(\"Magentic-One\") as rollspan:\n",
    "\n",
    "    team = MagenticOneGroupChat(participants=participants, model_client=model_client, termination_condition=combined_termination)\n",
    "    task = \"2024年9月~10月の受注数を集計し、さらにSNS分析を行い、日付ごとレコードを集計した結果何かわかることはあるか？\"\n",
    "    await Console(team.run_stream(task=task))"
   ]
  }
 ],
 "metadata": {
  "kernelspec": {
   "display_name": ".venv",
   "language": "python",
   "name": "python3"
  },
  "language_info": {
   "codemirror_mode": {
    "name": "ipython",
    "version": 3
   },
   "file_extension": ".py",
   "mimetype": "text/x-python",
   "name": "python",
   "nbconvert_exporter": "python",
   "pygments_lexer": "ipython3",
   "version": "3.12.9"
  }
 },
 "nbformat": 4,
 "nbformat_minor": 5
}
