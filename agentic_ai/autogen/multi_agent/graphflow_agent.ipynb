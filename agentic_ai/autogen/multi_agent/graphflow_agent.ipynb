{
 "cells": [
  {
   "cell_type": "markdown",
   "id": "dd4fdc18",
   "metadata": {},
   "source": [
    "# GraphFlow (Workflows)\n",
    "\n",
    "このセクションでは、GraphFlow（または単に「フロー」と呼ぶこともできます）を使用してマルチエージェントワークフローを作成する方法について学びます。このワークフローは構造化された実行を採用し、エージェント間の相互作用を正確に制御してタスクを完了させます。\n",
    "\n",
    "AutoGen AgentChat は、有向グラフの実行を管理するチームを提供します： \n",
    "\n",
    "GraphFlow: エージェント間の実行フローを制御するために `DiGraph` に従うチーム。**順次実行、並列実行、条件分岐、ループ実行**をサポートします。 \n",
    "\n",
    "\n",
    "## GraphFlow はいつ使用すべきですか？\n",
    "\n",
    "*エージェントの動作順序を厳密に制御する必要がある場合、または異なる結果が異なる次のステップに接続する必要がある場合に使用します。アドホックな会話フローが十分であれば、`RoundRobinGroupChat` や `SelectorGroupChat` のようなシンプルなチームから始めてください。タスクが確定的な制御、条件分岐、またはサイクルを含む複雑なマルチステッププロセスを処理する必要がある場合は、構造化されたワークフローに移行してください。*\n",
    "\n",
    "`DiGraphBuilder` は、ワークフローの実行グラフを簡単に構築できる直感的なユーティリティです。以下の機能をサポートしています：\n",
    "\n",
    "- シーケンシャルチェーン\n",
    "- 並列ファンアウト\n",
    "- 条件分岐\n",
    "- 安全な終了条件付きループ\n",
    "\n",
    "グラフ内の各ノードはエージェントを表し、エッジは許可された実行パスを定義します。エッジには、エージェントのメッセージに基づく条件をオプションで設定できます。"
   ]
  },
  {
   "cell_type": "code",
   "execution_count": null,
   "id": "d54ec14e",
   "metadata": {},
   "outputs": [],
   "source": [
    "#!pip install -U \"autogen-agentchat\"\n",
    "#!pip install \"autogen-ext[mcp,openai,azure]\""
   ]
  },
  {
   "cell_type": "code",
   "execution_count": null,
   "id": "49c61a22",
   "metadata": {},
   "outputs": [],
   "source": [
    "from typing import Any, List  \n",
    "import os  \n",
    "from dotenv import load_dotenv  \n",
    "\n",
    "from autogen_agentchat.agents import AssistantAgent  \n",
    "from autogen_agentchat.teams import DiGraphBuilder, GraphFlow\n",
    "\n",
    "from autogen_core import CancellationToken  \n",
    "from autogen_agentchat.ui import Console\n",
    "from autogen_ext.models.openai import AzureOpenAIChatCompletionClient  \n",
    "from autogen_ext.tools.mcp import SseServerParams, mcp_server_tools  \n",
    "import warnings\n",
    "warnings.simplefilter('ignore')\n",
    "\n",
    "load_dotenv()"
   ]
  },
  {
   "cell_type": "markdown",
   "id": "48747bd4",
   "metadata": {},
   "source": [
    "## OpenTelemetry によるトレーサーのセット\n",
    "マルチエージェントのデバッグには OpenTelemetry によるトレーサーを利用すると便利。`OpenAIInstrumentor` を使用して OpenAI コールをキャプチャできます。ここではトレース UI として [Jaeger](https://www.jaegertracing.io/download/) を使用しています。"
   ]
  },
  {
   "cell_type": "code",
   "execution_count": null,
   "id": "7d823abc",
   "metadata": {},
   "outputs": [],
   "source": [
    "#!pip install opentelemetry-api opentelemetry-sdk opentelemetry-exporter-otlp opentelemetry-instrumentation-openai"
   ]
  },
  {
   "cell_type": "code",
   "execution_count": null,
   "id": "2087c39a",
   "metadata": {},
   "outputs": [],
   "source": [
    "from opentelemetry import trace\n",
    "from opentelemetry.sdk.resources import Resource\n",
    "from opentelemetry.sdk.trace import TracerProvider\n",
    "from opentelemetry.sdk.trace.export import BatchSpanProcessor\n",
    "from opentelemetry.exporter.otlp.proto.grpc.trace_exporter import OTLPSpanExporter\n",
    "from opentelemetry.instrumentation.openai import OpenAIInstrumentor\n",
    "\n",
    "service_name = \"autogen\"\n",
    "\n",
    "# OTLPエクスポーターの設定 (gRPC経由で送信)\n",
    "otlp_exporter = OTLPSpanExporter(\n",
    "    endpoint=\"http://localhost:4317\",  # JaegerのgRPCエンドポイント\n",
    ")\n",
    "tracer_provider = TracerProvider(resource=Resource({\"service.name\": service_name}))\n",
    "    \n",
    "# トレーサープロバイダーの設定\n",
    "trace.set_tracer_provider(tracer_provider)\n",
    "\n",
    "# バッチスパンプロセッサーを設定\n",
    "span_processor = BatchSpanProcessor(otlp_exporter)\n",
    "tracer_provider.add_span_processor(span_processor)\n",
    "\n",
    "# トレーサーを取得\n",
    "tracer = tracer_provider.get_tracer(service_name)\n",
    "\n",
    "OpenAIInstrumentor().instrument()"
   ]
  },
  {
   "cell_type": "code",
   "execution_count": null,
   "id": "58ad0654",
   "metadata": {},
   "outputs": [],
   "source": [
    "mcp_server_uri = os.getenv(\"MCP_SERVER_URI\")\n",
    "azure_openai_key = os.getenv(\"AZURE_OPENAI_KEY\")\n",
    "azure_openai_endpoint = os.getenv(\"AZURE_OPENAI_ENDPOINT\")\n",
    "azure_openai_model = os.getenv(\"AZURE_OPENAI_MODEL\")\n",
    "azure_deployment = os.getenv(\"AZURE_OPENAI_CHAT_DEPLOYMENT\")\n",
    "api_version = os.getenv(\"AZURE_OPENAI_API_VERSION\")\n",
    "openai_model_name = os.getenv(\"OPENAI_MODEL_NAME\")"
   ]
  },
  {
   "cell_type": "markdown",
   "id": "de35e7a0",
   "metadata": {},
   "source": [
    "## Tools の定義(MCP over SSE)"
   ]
  },
  {
   "cell_type": "code",
   "execution_count": null,
   "id": "cf8de4fd",
   "metadata": {},
   "outputs": [],
   "source": [
    "server_params = SseServerParams(  \n",
    "    url=mcp_server_uri,  \n",
    "    headers={\"Content-Type\": \"application/json\"},  \n",
    "    timeout=30  \n",
    ")  \n",
    "\n",
    "# Fetch tools (async)  \n",
    "tools = await mcp_server_tools(server_params)  \n",
    "print(f\"Number of Tools: {len(tools)}\")\n",
    "# Set up the OpenAI/Azure model client  \n",
    "model_client = AzureOpenAIChatCompletionClient(  \n",
    "    api_key=azure_openai_key,  \n",
    "    azure_endpoint=azure_openai_endpoint,  \n",
    "    api_version=api_version,  \n",
    "    azure_deployment=azure_deployment,  \n",
    "    model=openai_model_name,  \n",
    ")  "
   ]
  },
  {
   "cell_type": "markdown",
   "id": "ba4e9859",
   "metadata": {},
   "source": [
    "## エージェント定義"
   ]
  },
  {
   "cell_type": "code",
   "execution_count": null,
   "id": "9b15d14e",
   "metadata": {},
   "outputs": [],
   "source": [
    "\n",
    "# 3. -----------------  Agent Definitions -----------------  \n",
    "primary_agent = AssistantAgent(  \n",
    "    name=\"primary\",  \n",
    "    model_client=model_client,  \n",
    "    tools=tools,  \n",
    "    description=\"役立つアシスタント。複数のツールを使用して情報を検索し、質問に回答する\",\n",
    "    system_message=(  \n",
    "\"\"\"\n",
    "あなたは役立つアシスタントです。複数のツールを使用して情報を検索し、質問に回答することができます。\n",
    "利用可能なツールを確認し、必要に応じて使用してください。ユーザーが不明な点がある場合は、確認のための質問をすることもできます。\n",
    "\"\"\"\n",
    ")\n",
    ")  \n",
    "\n",
    "critic_agent = AssistantAgent(  \n",
    "    name=\"critic\",  \n",
    "    model_client=model_client,  \n",
    "    description=\"建設的なフィードバックを提供するデータアナリスト。主に他のエージェントの出力を評価し、改善点を提案する役割を担う。\",\n",
    "    tools=tools,  \n",
    "    system_message=(\n",
    "\"\"\"\n",
    "プロのデータアナリストとして建設的なフィードバックを提供してください。フィードバックが反映された場合は 'APPROVE' と回答してください。\n",
    "\"\"\"\n",
    "    ),  \n",
    ")  \n",
    "\n"
   ]
  },
  {
   "cell_type": "markdown",
   "id": "9e32c5ae",
   "metadata": {},
   "source": [
    "# シーケンシャルフロー\n",
    "まず、primary が利用可能なツールを実行し、critic(批評家) がフィードバックを提供するというシンプルなワークフローを作成します。このグラフは、critic(批評家) がライターにコメントした時点で終了します。フローはグラフのすべてのソース ノードとリーフ ノードを自動的に計算し、実行はグラフ内のすべてのソース ノードで開始され、実行するノードがなくなると実行が完了することに注意してください。"
   ]
  },
  {
   "cell_type": "code",
   "execution_count": null,
   "id": "43f91e37",
   "metadata": {},
   "outputs": [],
   "source": [
    "# Build the graph\n",
    "builder = DiGraphBuilder()\n",
    "builder.add_node(primary_agent).add_node(critic_agent)\n",
    "builder.add_edge(primary_agent, critic_agent)\n",
    "\n",
    "# Build and validate the graph\n",
    "graph = builder.build()\n",
    "\n",
    "# Create the flow\n",
    "flow = GraphFlow([primary_agent, critic_agent], graph=graph)"
   ]
  },
  {
   "cell_type": "code",
   "execution_count": null,
   "id": "cbd11bb8",
   "metadata": {},
   "outputs": [],
   "source": [
    "flow._participant_names"
   ]
  },
  {
   "cell_type": "code",
   "execution_count": null,
   "id": "ef8d5a33",
   "metadata": {},
   "outputs": [],
   "source": [
    "with tracer.start_as_current_span(\"GraphFlow\") as rollspan: # ルートスパンを作成\n",
    "    task = \"ユーザーID:123 の出荷状況を確認してください。\"\n",
    "\n",
    "    await Console(flow.run_stream(task=task))"
   ]
  },
  {
   "cell_type": "markdown",
   "id": "0dcbb003",
   "metadata": {},
   "source": [
    "# 結合による並列フロー\n",
    "ここで、もう少し複雑なフローを作成します。\n",
    "\n",
    "- 筆者は段落の下書きを作成します。\n",
    "- 2 人の編集者が独立して文法とスタイルを編集します (並列ファンアウト)。\n",
    "- 最終レビュー担当者が編集内容を統合します (結合)。\n",
    "\n",
    "実行はwriterから始まり、 editor1とeditor2に同時に広がり、その後、両方が最終 revieworに送られます。"
   ]
  },
  {
   "cell_type": "code",
   "execution_count": null,
   "id": "3abe5c00",
   "metadata": {},
   "outputs": [],
   "source": [
    "# Create the writer agent\n",
    "primary = AssistantAgent(  \n",
    "    name=\"primary\",  \n",
    "    model_client=model_client,  \n",
    "    tools=tools,  \n",
    "    description=\"役立つアシスタント。複数のツールを使用して情報を検索し、質問に回答する\",\n",
    "    system_message=(  \n",
    "\"\"\"\n",
    "あなたは役立つアシスタントです。複数のツールを使用して情報を検索し、質問に回答することができます。\n",
    "利用可能なツールを確認し、必要に応じて使用してください。ユーザーが不明な点がある場合は、確認のための質問をすることもできます。\n",
    "\"\"\"\n",
    ")\n",
    ")  \n",
    "\n",
    "# Create two editor agents\n",
    "reviewer1 = AssistantAgent(\"Reviewer1\", model_client=model_client, system_message=\"批判的なレビュワーとして、以下の段落をレビューしてください。\")\n",
    "\n",
    "reviewer2 = AssistantAgent(\"Reviewer2\", model_client=model_client, system_message=\"肯定的なレビュワーとして、以下の段落をレビューしてください。\")\n",
    "\n",
    "# Create the final reviewer agent\n",
    "final_reviewer = AssistantAgent(\n",
    "    \"final_reviewer\",\n",
    "    model_client=model_client,\n",
    "    system_message=\"文法とスタイルの修正を統合し、最終版を作成してください。\",\n",
    ")\n"
   ]
  },
  {
   "cell_type": "code",
   "execution_count": null,
   "id": "e91cfa72",
   "metadata": {},
   "outputs": [],
   "source": [
    "# Build the workflow graph\n",
    "builder = DiGraphBuilder()\n",
    "builder.add_node(primary).add_node(reviewer1).add_node(reviewer2).add_node(final_reviewer)\n",
    "\n",
    "# Fan-out from writer to editor1 and editor2\n",
    "builder.add_edge(primary, reviewer1)\n",
    "builder.add_edge(primary, reviewer2)\n",
    "\n",
    "# Fan-in both editors into final reviewer\n",
    "builder.add_edge(reviewer1, final_reviewer)\n",
    "builder.add_edge(reviewer2, final_reviewer)\n",
    "\n",
    "# Build and validate the graph\n",
    "graph = builder.build()\n",
    "\n",
    "# Create the flow\n",
    "flow = GraphFlow(\n",
    "    participants=builder.get_participants(),\n",
    "    graph=graph,\n",
    ")\n",
    "\n",
    "flow._graph"
   ]
  },
  {
   "cell_type": "code",
   "execution_count": null,
   "id": "c03f097c",
   "metadata": {},
   "outputs": [],
   "source": [
    "flow._participant_names"
   ]
  },
  {
   "cell_type": "code",
   "execution_count": null,
   "id": "581fb0e0",
   "metadata": {},
   "outputs": [],
   "source": [
    "with tracer.start_as_current_span(\"GraphFlow\") as rollspan: # ルートスパンを作成\n",
    "    # task = \"ユーザーID:123 の出荷状況を確認してください。\"\n",
    "    task = \"SNS分析を行い、日付ごとのツイート数を集計してください\"\n",
    "    await Console(flow.run_stream(task=task))"
   ]
  },
  {
   "cell_type": "markdown",
   "id": "fb52e4c1",
   "metadata": {},
   "source": [
    "# メッセージフィルタリング\n",
    "## 実行グラフとメッセージグラフ\n",
    "`GraphFlow` では、実行グラフは `DiGraph` を使用して定義され、エージェントの実行順序を制御します。ただし、実行グラフはエージェントが他のエージェントから受け取るメッセージを制御しません。デフォルトでは、グラフ内のすべてのエージェントにすべてのメッセージが送信されます。\n",
    "\n",
    "メッセージフィルタリングは、各エージェントが受信するメッセージをフィルタリングし、そのモデルコンテキストを関連する情報に限定する独立した機能です。メッセージフィルタのセットがフロー内のメッセージグラフを定義します。\n",
    "\n",
    "メッセージグラフを指定することで、以下の点が改善されます：\n",
    "\n",
    "- 幻覚の削減\n",
    "- メモリ負荷の制御\n",
    "- エージェントを関連する情報にのみ集中させる\n",
    "\n",
    "これらのルールを定義するには、`MessageFilterAgent` を `MessageFilterConfig` と `PerSourceFilter` と組み合わせて使用できます。\n"
   ]
  },
  {
   "cell_type": "code",
   "execution_count": null,
   "id": "134ae9ff",
   "metadata": {},
   "outputs": [],
   "source": [
    "from autogen_agentchat.agents import AssistantAgent, MessageFilterAgent, MessageFilterConfig, PerSourceFilter\n",
    "from autogen_agentchat.teams import DiGraphBuilder, GraphFlow\n",
    "\n",
    "# Create agents\n",
    "researcher = AssistantAgent(\n",
    "    \"researcher\", model_client=model_client, system_message=\"気候変動に関する主要な事実を要約してください。\"\n",
    ")\n",
    "analyst = AssistantAgent(\"analyst\", model_client=model_client, system_message=\"要約を確認し、改善点を提案してください。\")\n",
    "presenter = AssistantAgent(\n",
    "    \"presenter\", model_client=model_client, system_message=\"最終要約に基づいてプレゼンテーションのスライドを作成してください。\"\n",
    ")\n",
    "\n",
    "# Apply message filtering\n",
    "filtered_analyst = MessageFilterAgent(\n",
    "    name=\"analyst\",\n",
    "    wrapped_agent=analyst,\n",
    "    filter=MessageFilterConfig(per_source=[PerSourceFilter(source=\"researcher\", position=\"last\", count=1)]),\n",
    ")\n",
    "\n",
    "filtered_presenter = MessageFilterAgent(\n",
    "    name=\"presenter\",\n",
    "    wrapped_agent=presenter,\n",
    "    filter=MessageFilterConfig(per_source=[PerSourceFilter(source=\"analyst\", position=\"last\", count=1)]),\n",
    ")\n",
    "\n",
    "# Build the flow\n",
    "builder = DiGraphBuilder()\n",
    "builder.add_node(researcher).add_node(filtered_analyst).add_node(filtered_presenter)\n",
    "builder.add_edge(researcher, filtered_analyst).add_edge(filtered_analyst, filtered_presenter)\n",
    "# Build and validate the graph\n",
    "graph = builder.build()\n",
    "\n",
    "# Create the flow\n",
    "flow = GraphFlow(\n",
    "    participants=builder.get_participants(),\n",
    "    graph=graph\n",
    ")\n"
   ]
  },
  {
   "cell_type": "code",
   "execution_count": null,
   "id": "90d649da",
   "metadata": {},
   "outputs": [],
   "source": [
    "with tracer.start_as_current_span(\"GraphFlow\") as rollspan: # ルートスパンを作成\n",
    "# Run the flow\n",
    "    await Console(flow.run_stream(task=\"気候変動に関する主要な事実を要約してください。\"))"
   ]
  },
  {
   "cell_type": "markdown",
   "id": "8a441ff7",
   "metadata": {},
   "source": [
    "# 高度な例: 条件付きループ + フィルタリングされた要約\n",
    "この例では次のことを示します。\n",
    "\n",
    "- generator とレビュー担当者間のループ（レビュー担当者が「承認」と言ったときに終了）\n",
    "- 最初のユーザー入力と最後のレビュー担当者のメッセージのみを表示する要約エージェント\n",
    "\n"
   ]
  },
  {
   "cell_type": "code",
   "execution_count": null,
   "id": "d3d4eadf",
   "metadata": {},
   "outputs": [],
   "source": [
    "from autogen_agentchat.agents import AssistantAgent, MessageFilterAgent, MessageFilterConfig, PerSourceFilter\n",
    "\n",
    "# Agents\n",
    "generator = AssistantAgent(\"generator\", model_client=model_client, system_message=\"創造的なアイデアのリストを作成してください。最初は全く関係のないアイデアを出してください(全く関係のないという意図を明らかにしてはなりません)\")\n",
    "reviewer = AssistantAgent(\n",
    "    \"reviewer\",\n",
    "    model_client=model_client,\n",
    "    system_message=\"アイデアを確認し、'REVISE' と入力してフィードバックを提供するか、最終承認の場合は 'APPROVE' と入力してください。\",\n",
    ")\n",
    "summarizer_core = AssistantAgent(\n",
    "    \"summary\", model_client=model_client, system_message=\"ユーザーの要求を要約し、最終的なフィードバックをまとめます。\"\n",
    ")\n",
    "\n",
    "# Filtered summarizer\n",
    "filtered_summarizer = MessageFilterAgent(\n",
    "    name=\"summary\",\n",
    "    wrapped_agent=summarizer_core,\n",
    "    filter=MessageFilterConfig(\n",
    "        per_source=[\n",
    "            PerSourceFilter(source=\"user\", position=\"first\", count=1),\n",
    "            PerSourceFilter(source=\"reviewer\", position=\"last\", count=1),\n",
    "        ]\n",
    "    ),\n",
    ")\n",
    "\n",
    "# 条件付きループを使用してグラフを構築する\n",
    "builder = DiGraphBuilder()\n",
    "builder.add_node(generator).add_node(reviewer).add_node(filtered_summarizer)\n",
    "builder.add_edge(generator, reviewer)\n",
    "builder.add_edge(reviewer, generator, condition=\"REVISE\")\n",
    "builder.add_edge(reviewer, filtered_summarizer, condition=\"APPROVE\")\n",
    "builder.set_entry_point(generator)  # ジェネレーターへのエントリポイントを設定します。ソースノードが存在しない場合に必要です。\n",
    "graph = builder.build()\n",
    "\n",
    "# Create the flow\n",
    "flow = GraphFlow(\n",
    "    participants=builder.get_participants(),\n",
    "    graph=graph,\n",
    ")\n",
    "with tracer.start_as_current_span(\"GraphFlow\") as rollspan: # ルートスパンを作成\n",
    "    # フローを実行し、コンソールに出力結果を整形して表示します。\n",
    "    await Console(flow.run_stream(task=\"プラスチック廃棄物を減らすためのアイデアを出し合おう。\"))\n"
   ]
  }
 ],
 "metadata": {
  "kernelspec": {
   "display_name": "autogen059",
   "language": "python",
   "name": "python3"
  },
  "language_info": {
   "codemirror_mode": {
    "name": "ipython",
    "version": 3
   },
   "file_extension": ".py",
   "mimetype": "text/x-python",
   "name": "python",
   "nbconvert_exporter": "python",
   "pygments_lexer": "ipython3",
   "version": "3.11.11"
  }
 },
 "nbformat": 4,
 "nbformat_minor": 5
}
